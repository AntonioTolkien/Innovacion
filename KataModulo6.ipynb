{
 "cells": [
  {
   "cell_type": "markdown",
   "metadata": {},
   "source": [
    "### Ejercicio 1"
   ]
  },
  {
   "cell_type": "code",
   "execution_count": 5,
   "metadata": {},
   "outputs": [
    {
     "name": "stdout",
     "output_type": "stream",
     "text": [
      "Hay 8 planetas\n",
      "Pluto es el último planeta\n"
     ]
    }
   ],
   "source": [
    "#Introducimos los planetas\n",
    "\n",
    "planetas = ['Mercury', 'Venus', 'Earth', 'Mars', 'Jupiter', 'Saturn', 'Uranus', 'Neptune']\n",
    "\n",
    "print('Hay', len(planetas), 'planetas')\n",
    "\n",
    "#Agregamos un planeta a la lista\n",
    "\n",
    "planetas.append('Pluto')\n",
    "\n",
    "#Mostramos el último planeta\n",
    "\n",
    "print(planetas[-1], 'es el último planeta')"
   ]
  },
  {
   "cell_type": "markdown",
   "metadata": {},
   "source": [
    "### Ejercicio 2"
   ]
  },
  {
   "cell_type": "code",
   "execution_count": 8,
   "metadata": {},
   "outputs": [
    {
     "name": "stdout",
     "output_type": "stream",
     "text": [
      "Los planetas más cercanos al sol del planeta que el usuario ingresó son: ['Mercury', 'Venus']\n",
      "Los planetas más lejanos al sol del planeta que el usuario ingresó son: ['Mars', 'Jupiter', 'Saturn', 'Uranus', 'Neptune', 'Pluto']\n"
     ]
    }
   ],
   "source": [
    "usuario = input('Por favor, introduzca el nombre del planeta de su preferencia, la primer letra en Mayúscula')\n",
    "\n",
    "planetabuscado = planetas.index(usuario)\n",
    "\n",
    "planetascercanos = planetas[0: planetabuscado]\n",
    "\n",
    "print(\"Los planetas más cercanos al sol del planeta que el usuario ingresó son:\" , planetascercanos)\n",
    "\n",
    "planetaslejanos = planetas[planetabuscado + 1:]\n",
    "\n",
    "print(\"Los planetas más lejanos al sol del planeta que el usuario ingresó son:\" , planetaslejanos)"
   ]
  }
 ],
 "metadata": {
  "interpreter": {
   "hash": "6926849a2b0abe44fa5b91456057bb646e853d3866a2e4ea4d95e0d845f5d0e3"
  },
  "kernelspec": {
   "display_name": "Python 3.9.3 64-bit",
   "language": "python",
   "name": "python3"
  },
  "language_info": {
   "codemirror_mode": {
    "name": "ipython",
    "version": 3
   },
   "file_extension": ".py",
   "mimetype": "text/x-python",
   "name": "python",
   "nbconvert_exporter": "python",
   "pygments_lexer": "ipython3",
   "version": "3.9.3"
  },
  "orig_nbformat": 4
 },
 "nbformat": 4,
 "nbformat_minor": 2
}
