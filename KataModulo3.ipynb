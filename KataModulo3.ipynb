{
 "cells": [
  {
   "cell_type": "markdown",
   "metadata": {},
   "source": [
    "### Ejercicio 1"
   ]
  },
  {
   "cell_type": "code",
   "execution_count": 1,
   "metadata": {},
   "outputs": [
    {
     "name": "stdout",
     "output_type": "stream",
     "text": [
      "Peligro, un asteroide se aproxima a la Tierra\n"
     ]
    }
   ],
   "source": [
    "VelAsteroide1 = 49\n",
    "if VelAsteroide1 > 25:\n",
    "    print(\"Peligro, un asteroide se aproxima a la Tierra\")\n",
    "else:\n",
    "    print(\"No hay nada de qué preocuparse\")"
   ]
  },
  {
   "cell_type": "markdown",
   "metadata": {},
   "source": [
    "### Ejercicio 2"
   ]
  },
  {
   "cell_type": "code",
   "execution_count": 3,
   "metadata": {},
   "outputs": [
    {
     "name": "stdout",
     "output_type": "stream",
     "text": [
      "No hay nada de qué preocuparse\n"
     ]
    }
   ],
   "source": [
    "VelAsteroide1 = 19\n",
    "if VelAsteroide1 >= 20:\n",
    "    print(\"Mira al cielo en busca de una luz extraña en el cielo\")\n",
    "else:\n",
    "    print(\"No hay nada de qué preocuparse\")"
   ]
  },
  {
   "cell_type": "markdown",
   "metadata": {},
   "source": [
    "### Ejercicio 3"
   ]
  },
  {
   "cell_type": "code",
   "execution_count": 5,
   "metadata": {},
   "outputs": [
    {
     "name": "stdout",
     "output_type": "stream",
     "text": [
      "Mira al cielo en busca de una luz extraña en el cielo\n"
     ]
    }
   ],
   "source": [
    "VelAsteroide2 = 25\n",
    "TamAsteroide = 40\n",
    "if VelAsteroide2 > 25 and TamAsteroide > 25:\n",
    "    print('Un asteroide se aproxima hacia la Tierra')\n",
    "elif VelAsteroide2 >= 20:\n",
    "    print('Mira al cielo en busca de una luz extraña en el cielo')\n",
    "elif tamano_asteroide < 25:\n",
    "    print('Noy hay nada de qué preocuparse')\n",
    "else:\n",
    "    print('Noy hay nada de qué preocuparse')"
   ]
  }
 ],
 "metadata": {
  "interpreter": {
   "hash": "6926849a2b0abe44fa5b91456057bb646e853d3866a2e4ea4d95e0d845f5d0e3"
  },
  "kernelspec": {
   "display_name": "Python 3.9.3 64-bit",
   "language": "python",
   "name": "python3"
  },
  "language_info": {
   "codemirror_mode": {
    "name": "ipython",
    "version": 3
   },
   "file_extension": ".py",
   "mimetype": "text/x-python",
   "name": "python",
   "nbconvert_exporter": "python",
   "pygments_lexer": "ipython3",
   "version": "3.9.3"
  },
  "orig_nbformat": 4
 },
 "nbformat": 4,
 "nbformat_minor": 2
}
