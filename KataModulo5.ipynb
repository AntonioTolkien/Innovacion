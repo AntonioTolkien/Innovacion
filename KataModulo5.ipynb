{
 "cells": [
  {
   "cell_type": "markdown",
   "metadata": {},
   "source": [
    "### Ejercicio 1"
   ]
  },
  {
   "cell_type": "code",
   "execution_count": 4,
   "metadata": {},
   "outputs": [
    {
     "name": "stdout",
     "output_type": "stream",
     "text": [
      "La distancia es de 628949330 km\n"
     ]
    }
   ],
   "source": [
    "#Variables\n",
    "\n",
    "Planeta1 = 149597870\n",
    "Planeta2 = 778547200\n",
    "\n",
    "#Distancia entre 2 planetas\n",
    "\n",
    "Distancia = Planeta2 - Planeta1\n",
    "print(\"La distancia es de \"  + str(Distancia) + \" km\")"
   ]
  },
  {
   "cell_type": "markdown",
   "metadata": {},
   "source": [
    "### Ejercicio 2"
   ]
  },
  {
   "cell_type": "code",
   "execution_count": null,
   "metadata": {},
   "outputs": [],
   "source": [
    "NewPlanet1 = input('Introduzca la distancia del sol para el primer planeta en KM')\n",
    "NewPlanet2 = input('Introduzca la distancia desde el sol para el segundo planeta en KM')\n",
    "\n",
    "NewPlanet1 = int(NewPlanet1)\n",
    "NewPlanet2 = int(NewPlanet2)\n",
    "\n",
    "# Realizar el cálculo y determinar el valor absoluto\n",
    "NewDistance = abs(NewPlanet1 - NewPlanet2)\n",
    "print(\"La distancia es de \"  + str(NewDistance) + \" km\")\n",
    "\n",
    "# Convertir de KM a Millas\n",
    "distance_mi = NewDistance * 0.621\n",
    "print(abs(distance_mi))"
   ]
  }
 ],
 "metadata": {
  "interpreter": {
   "hash": "6926849a2b0abe44fa5b91456057bb646e853d3866a2e4ea4d95e0d845f5d0e3"
  },
  "kernelspec": {
   "display_name": "Python 3.9.3 64-bit",
   "language": "python",
   "name": "python3"
  },
  "language_info": {
   "codemirror_mode": {
    "name": "ipython",
    "version": 3
   },
   "file_extension": ".py",
   "mimetype": "text/x-python",
   "name": "python",
   "nbconvert_exporter": "python",
   "pygments_lexer": "ipython3",
   "version": "3.9.3"
  },
  "orig_nbformat": 4
 },
 "nbformat": 4,
 "nbformat_minor": 2
}
