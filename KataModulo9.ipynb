{
 "cells": [
  {
   "cell_type": "markdown",
   "metadata": {},
   "source": [
    "### Ejercicio 1"
   ]
  },
  {
   "cell_type": "code",
   "execution_count": 5,
   "metadata": {},
   "outputs": [
    {
     "name": "stdout",
     "output_type": "stream",
     "text": [
      "Informe del combustible:\n",
      "    Promedio: 75.33333333333333%\n",
      "    Tanque 1: 56%\n",
      "    Tanque 2: 72%\n",
      "    Tanque 3: 98%\n",
      "    \n",
      "El promedio de los valores es de 33.333333333333336\n",
      "Informe del combustible:\n",
      "    Promedio: 43.666666666666664%\n",
      "    Tanque 1: 41%\n",
      "    Tanque 2: 23%\n",
      "    Tanque 3: 67%\n",
      "    \n"
     ]
    }
   ],
   "source": [
    "#Introducimos una función donde ingresemos el combustible de 3 tanques, los valores tienen que ser mayores o iguales a 0, pero menores a 100\n",
    "\n",
    "def reporte(tanque1, tanque2, tanque3):\n",
    "    promediotanques = (tanque1 + tanque2 + tanque3) / 3\n",
    "    return f\"\"\"Informe del combustible:\n",
    "    Promedio: {promediotanques}%\n",
    "    Tanque 1: {tanque1}%\n",
    "    Tanque 2: {tanque2}%\n",
    "    Tanque 3: {tanque3}%\n",
    "    \"\"\"\n",
    "\n",
    "#Ingresamos valores a la función para corroborar\n",
    "print(reporte(56, 72, 98))\n",
    "\n",
    "#Creamos la función promedio\n",
    "\n",
    "def promediovalores(valores):\n",
    "    suma = sum(valores)\n",
    "    NoValores = len(valores)\n",
    "    return suma / NoValores\n",
    "\n",
    "print( \"El promedio de los valores es de\", promediovalores([24,45,31]))\n",
    "\n",
    "#Ahora usaremos la funcion promediovalores reemplazándola en la función reporte\n",
    "\n",
    "def reporte(tanque1, tanque2, tanque3):\n",
    "    promediotanques = (tanque1 + tanque2 + tanque3) / 3\n",
    "    return f\"\"\"Informe del combustible:\n",
    "    Promedio: {promediovalores([tanque1, tanque2, tanque3])}%\n",
    "    Tanque 1: {tanque1}%\n",
    "    Tanque 2: {tanque2}%\n",
    "    Tanque 3: {tanque3}%\n",
    "    \"\"\"\n",
    "\n",
    "print(reporte(41, 23, 67))"
   ]
  },
  {
   "cell_type": "markdown",
   "metadata": {},
   "source": [
    "### Ejercicio 2"
   ]
  },
  {
   "cell_type": "code",
   "execution_count": 7,
   "metadata": {},
   "outputs": [
    {
     "name": "stdout",
     "output_type": "stream",
     "text": [
      "\n",
      "    El destino de la misión es Luna\n",
      "    Timepo total de vuelo: 104 minutos\n",
      "    Combustible total: 560000 galones\n",
      "    \n",
      "\n",
      "    El destino de la misión es Moon\n",
      "    Tiempo total de vuelo: 146 minutos\n",
      "    Combustible total: 500000\n",
      "    \n",
      "\n",
      "    El destino de la misión es Moon\n",
      "    Tiempo total de vuelo: 74 minutos\n",
      "    Combustible total: 500000\n",
      "    main tank --> 300000 gallons left\n",
      "external tank --> 200000 gallons left\n",
      "\n"
     ]
    }
   ],
   "source": [
    "#Creamos la función informe de la misión con los datos solicitados\n",
    "\n",
    "def reportemision (prelanzamiento, tiempovuelo, destino, tanqueexterno, tanqueinterno):\n",
    "    return f\"\"\"\n",
    "    El destino de la misión es {destino}\n",
    "    Timepo total de vuelo: {prelanzamiento + tiempovuelo} minutos\n",
    "    Combustible total: {tanqueexterno + tanqueinterno} galones\n",
    "    \"\"\"\n",
    "\n",
    "print(reportemision(24, 80, \"Luna\", 250000, 310000))\n",
    "\n",
    "# Escribe tu nueva función de reporte considerando lo anterior\n",
    "\n",
    "def reportemision(destino, *minutos, **reservascombustible):\n",
    "    return f\"\"\"\n",
    "    El destino de la misión es {destino}\n",
    "    Tiempo total de vuelo: {sum(minutos)} minutos\n",
    "    Combustible total: {sum(reservascombustible.values())}\n",
    "    \"\"\"\n",
    "\n",
    "print(reportemision(\"Moon\", 45, 4, 97, main=300000, external=200000))\n",
    "\n",
    "# Escribe tu nueva función\n",
    "\n",
    "def mission_report(destino, *minutos, **reservascombustible):\n",
    "    main_report = f\"\"\"\n",
    "    El destino de la misión es {destino}\n",
    "    Tiempo total de vuelo: {sum(minutos)} minutos\n",
    "    Combustible total: {sum(reservascombustible.values())}\n",
    "    \"\"\"\n",
    "    for tank_name, gallons in reservascombustible.items():\n",
    "        main_report += f\"{tank_name} tank --> {gallons} gallons left\\n\"\n",
    "    return main_report\n",
    "\n",
    "print(mission_report(\"Moon\", 8, 11, 55, main=300000, external=200000))"
   ]
  }
 ],
 "metadata": {
  "interpreter": {
   "hash": "6926849a2b0abe44fa5b91456057bb646e853d3866a2e4ea4d95e0d845f5d0e3"
  },
  "kernelspec": {
   "display_name": "Python 3.9.3 64-bit",
   "language": "python",
   "name": "python3"
  },
  "language_info": {
   "codemirror_mode": {
    "name": "ipython",
    "version": 3
   },
   "file_extension": ".py",
   "mimetype": "text/x-python",
   "name": "python",
   "nbconvert_exporter": "python",
   "pygments_lexer": "ipython3",
   "version": "3.9.3"
  },
  "orig_nbformat": 4
 },
 "nbformat": 4,
 "nbformat_minor": 2
}
